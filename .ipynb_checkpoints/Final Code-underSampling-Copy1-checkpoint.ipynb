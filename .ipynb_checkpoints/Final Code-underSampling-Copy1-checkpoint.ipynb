{
 "cells": [
  {
   "cell_type": "markdown",
   "id": "cd070dab",
   "metadata": {},
   "source": [
    "# Prediction of Appointment No Show \n"
   ]
  },
  {
   "cell_type": "markdown",
   "id": "17a6fce6",
   "metadata": {},
   "source": [
    "Patients make appointments at clinics or hospitals to be checked by a doctor. Some of the patients do not show up for their appointments. This results in loss of valuable resources in terms of physician time and staffing allocation which could have been used more productively. we will prediction if the person shows up or not using a few classitfication algorithms."
   ]
  },
  {
   "cell_type": "code",
   "execution_count": 47,
   "id": "b2f31db1",
   "metadata": {},
   "outputs": [],
   "source": [
    "# Train moduls after oversampling data\n",
    "# Dont drop Naiborhood\n",
    "# New moduls"
   ]
  },
  {
   "cell_type": "code",
   "execution_count": 48,
   "id": "b2c62e03",
   "metadata": {},
   "outputs": [
    {
     "name": "stdout",
     "output_type": "stream",
     "text": [
      "Populating the interactive namespace from numpy and matplotlib\n"
     ]
    }
   ],
   "source": [
    "%pylab inline\n",
    "%config InlineBackend.figure_formats = ['retina']\n",
    "import numpy as np\n",
    "import pandas as pd\n",
    "import seaborn as sns\n",
    "sns.set()\n",
    "from sklearn.linear_model import LogisticRegression\n",
    "from sklearn.model_selection import train_test_split\n",
    "from sklearn.metrics import f1_score, roc_auc_score\n",
    "from sklearn.metrics import f1_score\n",
    "from collections import Counter\n",
    "from imblearn.over_sampling import SMOTE\n",
    "import warnings\n",
    "from sklearn.model_selection import GridSearchCV\n",
    "\n",
    "from sklearn import linear_model, neighbors, ensemble\n",
    "import pickle\n",
    "from sklearn.neighbors import KNeighborsClassifier\n",
    "from sklearn.linear_model import LogisticRegression\n",
    "from sklearn.tree import DecisionTreeClassifier\n",
    "from sklearn.ensemble import RandomForestClassifier, ExtraTreesClassifier, VotingClassifier\n",
    "from sklearn.metrics import precision_score, recall_score, precision_recall_curve,f1_score, fbeta_score\n",
    "from sklearn.metrics import confusion_matrix\n",
    "from mlxtend.classifier import StackingClassifier\n",
    "from xgboost import XGBClassifier\n",
    "\n",
    "from sklearn.metrics import classification_report,confusion_matrix ,accuracy_score , plot_confusion_matrix ,plot_roc_curve\n",
    "warnings.simplefilter(action='ignore', category=FutureWarning)\n",
    "\n",
    "from sklearn.ensemble import GradientBoostingClassifier"
   ]
  },
  {
   "cell_type": "markdown",
   "id": "ee067307",
   "metadata": {},
   "source": [
    "# Load Data"
   ]
  },
  {
   "cell_type": "code",
   "execution_count": 49,
   "id": "21cc4da9",
   "metadata": {},
   "outputs": [],
   "source": [
    "df_appointments = pd.read_csv('Data/appointment.csv')"
   ]
  },
  {
   "cell_type": "markdown",
   "id": "31751918",
   "metadata": {},
   "source": [
    "# EDA"
   ]
  },
  {
   "cell_type": "code",
   "execution_count": 50,
   "id": "f53ecb21",
   "metadata": {},
   "outputs": [],
   "source": [
    "df_appointments['No-show'] = df_appointments['No-show'].str.replace('No', '1')\n",
    "df_appointments['No-show'] = df_appointments['No-show'].str.replace('Yes', '0')\n",
    "\n",
    "df_appointments['Gender'] = df_appointments['Gender'].str.replace('M', '1')\n",
    "df_appointments['Gender'] = df_appointments['Gender'].str.replace('F', '0')"
   ]
  },
  {
   "cell_type": "code",
   "execution_count": 51,
   "id": "fb1cc827",
   "metadata": {},
   "outputs": [],
   "source": [
    "df_appointments['Gender']=df_appointments['Gender'].astype('int') \n",
    "df_appointments['No-show']= df_appointments['No-show'].astype('int') "
   ]
  },
  {
   "cell_type": "code",
   "execution_count": 52,
   "id": "5de8b42c",
   "metadata": {},
   "outputs": [
    {
     "data": {
      "text/plain": [
       "(110527, 14)"
      ]
     },
     "execution_count": 52,
     "metadata": {},
     "output_type": "execute_result"
    }
   ],
   "source": [
    "df_appointments.shape"
   ]
  },
  {
   "cell_type": "code",
   "execution_count": 53,
   "id": "9a913b5d",
   "metadata": {},
   "outputs": [
    {
     "name": "stdout",
     "output_type": "stream",
     "text": [
      "<class 'pandas.core.frame.DataFrame'>\n",
      "RangeIndex: 110527 entries, 0 to 110526\n",
      "Data columns (total 14 columns):\n",
      " #   Column          Non-Null Count   Dtype  \n",
      "---  ------          --------------   -----  \n",
      " 0   PatientId       110527 non-null  float64\n",
      " 1   AppointmentID   110527 non-null  int64  \n",
      " 2   Gender          110527 non-null  int64  \n",
      " 3   ScheduledDay    110527 non-null  object \n",
      " 4   AppointmentDay  110527 non-null  object \n",
      " 5   Age             110527 non-null  int64  \n",
      " 6   Neighbourhood   110527 non-null  object \n",
      " 7   Scholarship     110527 non-null  int64  \n",
      " 8   Hipertension    110527 non-null  int64  \n",
      " 9   Diabetes        110527 non-null  int64  \n",
      " 10  Alcoholism      110527 non-null  int64  \n",
      " 11  Handcap         110527 non-null  int64  \n",
      " 12  SMS_received    110527 non-null  int64  \n",
      " 13  No-show         110527 non-null  int64  \n",
      "dtypes: float64(1), int64(10), object(3)\n",
      "memory usage: 11.8+ MB\n"
     ]
    }
   ],
   "source": [
    "df_appointments.info()"
   ]
  },
  {
   "cell_type": "code",
   "execution_count": 54,
   "id": "c5f5fd0e",
   "metadata": {},
   "outputs": [],
   "source": [
    "#sns.pairplot(df_appointments);\n",
    "#plt.savefig('pairplot.png')"
   ]
  },
  {
   "cell_type": "markdown",
   "id": "8ddc9803",
   "metadata": {},
   "source": [
    "# BaseLine before OverSampling"
   ]
  },
  {
   "cell_type": "code",
   "execution_count": 55,
   "id": "f2a2c4ed",
   "metadata": {},
   "outputs": [],
   "source": [
    "X = df_appointments.drop(['ScheduledDay','AppointmentDay','Neighbourhood','No-show'], axis = 1)\n",
    "y = df_appointments['No-show']\n",
    "\n",
    "X_train, X_test, y_train, y_test = train_test_split(X, y, test_size = 0.05, random_state=42)\n",
    "X_train, X_val , y_train, y_val = train_test_split(X_train ,y_train , test_size = 0.05, random_state=42)"
   ]
  },
  {
   "cell_type": "code",
   "execution_count": 56,
   "id": "b750aa9d",
   "metadata": {},
   "outputs": [
    {
     "data": {
      "text/plain": [
       "LogisticRegression()"
      ]
     },
     "execution_count": 56,
     "metadata": {},
     "output_type": "execute_result"
    }
   ],
   "source": [
    "lm = LogisticRegression()\n",
    "lm.fit(X_train,y_train)"
   ]
  },
  {
   "cell_type": "code",
   "execution_count": 57,
   "id": "f0ad2a50",
   "metadata": {},
   "outputs": [
    {
     "data": {
      "text/plain": [
       "0.7982857142857143"
      ]
     },
     "execution_count": 57,
     "metadata": {},
     "output_type": "execute_result"
    }
   ],
   "source": [
    "lm.score(X_train,y_train)"
   ]
  },
  {
   "cell_type": "code",
   "execution_count": 58,
   "id": "2055504b",
   "metadata": {},
   "outputs": [
    {
     "data": {
      "text/plain": [
       "0.795047619047619"
      ]
     },
     "execution_count": 58,
     "metadata": {},
     "output_type": "execute_result"
    }
   ],
   "source": [
    "lm.score(X_val, y_val)"
   ]
  },
  {
   "cell_type": "markdown",
   "id": "7f3c99f9",
   "metadata": {},
   "source": [
    "# OverSampling"
   ]
  },
  {
   "cell_type": "code",
   "execution_count": 59,
   "id": "6c0f6aad",
   "metadata": {},
   "outputs": [
    {
     "name": "stdout",
     "output_type": "stream",
     "text": [
      "1    0.798067\n",
      "0    0.201933\n",
      "Name: No-show, dtype: float64\n"
     ]
    },
    {
     "data": {
      "text/plain": [
       "<AxesSubplot:>"
      ]
     },
     "execution_count": 59,
     "metadata": {},
     "output_type": "execute_result"
    },
    {
     "data": {
      "image/png": "[encoded data removed]",
      "text/plain": [
       "<Figure size 432x288 with 1 Axes>"
      ]
     },
     "metadata": {
      "image/png": {
       "height": 247,
       "width": 374
      }
     },
     "output_type": "display_data"
    }
   ],
   "source": [
    "target_show = df_appointments['No-show'].value_counts(normalize=True) \n",
    "print(target_show)\n",
    "target_show.plot(kind='bar')"
   ]
  },
  {
   "cell_type": "code",
   "execution_count": 60,
   "id": "6071bcf1",
   "metadata": {},
   "outputs": [
    {
     "data": {
      "text/plain": [
       "'\\n\\nfrom imblearn.over_sampling import SMOTE\\n# summarize class distribution\\nprint(\"Before oversampling: \",Counter(y_train))\\n\\n# define oversampling strategy\\nSMOTE = SMOTE()\\n\\n# fit and apply the transform\\nX_train_SMOTE, y_train_SMOTE = SMOTE.fit_resample(X_train, y_train)\\n\\n\\n# summarize class distribution\\nprint(\"After oversampling: \",Counter(y_train_SMOTE))\\n'"
      ]
     },
     "execution_count": 60,
     "metadata": {},
     "output_type": "execute_result"
    }
   ],
   "source": [
    "'''\n",
    "\n",
    "from imblearn.over_sampling import SMOTE\n",
    "# summarize class distribution\n",
    "print(\"Before oversampling: \",Counter(y_train))\n",
    "\n",
    "# define oversampling strategy\n",
    "SMOTE = SMOTE()\n",
    "\n",
    "# fit and apply the transform\n",
    "X_train_SMOTE, y_train_SMOTE = SMOTE.fit_resample(X_train, y_train)\n",
    "\n",
    "\n",
    "# summarize class distribution\n",
    "print(\"After oversampling: \",Counter(y_train_SMOTE))\n",
    "'''"
   ]
  },
  {
   "cell_type": "code",
   "execution_count": 61,
   "id": "1ca7869b",
   "metadata": {},
   "outputs": [],
   "source": [
    "# define undersample strategy\n",
    "\n",
    "import imblearn\n",
    "# example of random oversampling to balance the class distribution\n",
    "from collections import Counter\n",
    "from sklearn.datasets import make_classification\n",
    "from imblearn.under_sampling import RandomUnderSampler\n",
    "\n",
    "undersample = RandomUnderSampler(sampling_strategy='majority')"
   ]
  },
  {
   "cell_type": "code",
   "execution_count": 64,
   "id": "e4d93167",
   "metadata": {},
   "outputs": [],
   "source": [
    "\n",
    "# define undersample strategy\n",
    "undersample = RandomUnderSampler(sampling_strategy=0.9)"
   ]
  },
  {
   "cell_type": "code",
   "execution_count": 65,
   "id": "15609d0d",
   "metadata": {},
   "outputs": [],
   "source": [
    "# fit and apply the transform\n",
    "X_train_SMOTE, y_train_SMOTE = undersample.fit_resample(X, y)"
   ]
  },
  {
   "cell_type": "code",
   "execution_count": 67,
   "id": "dc23e28b",
   "metadata": {},
   "outputs": [
    {
     "data": {
      "text/plain": [
       "(47117,)"
      ]
     },
     "execution_count": 67,
     "metadata": {},
     "output_type": "execute_result"
    }
   ],
   "source": [
    "y_train_SMOTE.shape"
   ]
  },
  {
   "cell_type": "markdown",
   "id": "b722917c",
   "metadata": {},
   "source": [
    "# BaseLine After OverSampling"
   ]
  },
  {
   "cell_type": "code",
   "execution_count": 68,
   "id": "f111fbfa",
   "metadata": {},
   "outputs": [
    {
     "data": {
      "text/plain": [
       "LogisticRegression()"
      ]
     },
     "execution_count": 68,
     "metadata": {},
     "output_type": "execute_result"
    }
   ],
   "source": [
    "lm2 = LogisticRegression() \n",
    "lm2.fit(X_train, y_train)"
   ]
  },
  {
   "cell_type": "code",
   "execution_count": 69,
   "id": "4e32644e",
   "metadata": {},
   "outputs": [
    {
     "data": {
      "text/plain": [
       "0.5263068531527899"
      ]
     },
     "execution_count": 69,
     "metadata": {},
     "output_type": "execute_result"
    }
   ],
   "source": [
    "lm2.score(X_train_SMOTE, y_train_SMOTE)"
   ]
  },
  {
   "cell_type": "code",
   "execution_count": 70,
   "id": "8f606947",
   "metadata": {},
   "outputs": [
    {
     "data": {
      "text/plain": [
       "0.7969965623303782"
      ]
     },
     "execution_count": 70,
     "metadata": {},
     "output_type": "execute_result"
    }
   ],
   "source": [
    "lm2.score(X_test, y_test)"
   ]
  },
  {
   "cell_type": "code",
   "execution_count": null,
   "id": "3b055ee1",
   "metadata": {},
   "outputs": [],
   "source": [
    "target_show = df_appointments['No-show'].value_counts(normalize=True) \n",
    "print(target_show)\n",
    "target_show.plot(kind='bar')"
   ]
  },
  {
   "cell_type": "markdown",
   "id": "9f3d7544",
   "metadata": {},
   "source": [
    "# Feature Engineering"
   ]
  },
  {
   "cell_type": "code",
   "execution_count": null,
   "id": "66f66113",
   "metadata": {},
   "outputs": [],
   "source": [
    "df_appointments=pd.get_dummies(df_appointments, drop_first=True)"
   ]
  },
  {
   "cell_type": "code",
   "execution_count": null,
   "id": "30242d50",
   "metadata": {},
   "outputs": [],
   "source": [
    "df_appointments['Time'] = df_appointments.loc[:].ScheduledDay.map(\n",
    "  lambda x: str.split(x, \"T\")[1])"
   ]
  },
  {
   "cell_type": "code",
   "execution_count": null,
   "id": "c5b0ef46",
   "metadata": {},
   "outputs": [],
   "source": [
    "df_appointments['Time']=df_appointments.loc[:].Time.map(\n",
    "  lambda x: str.split(x, \":\")[0])"
   ]
  },
  {
   "cell_type": "code",
   "execution_count": null,
   "id": "2adefaf8",
   "metadata": {},
   "outputs": [],
   "source": [
    "df_appointments['Time']=df_appointments['Time'].astype('int') "
   ]
  },
  {
   "cell_type": "code",
   "execution_count": null,
   "id": "236f0156",
   "metadata": {},
   "outputs": [],
   "source": [
    "df_appointments['Moring'] = (df_appointments['Time']>=0) & (df_appointments['Time']<12)"
   ]
  },
  {
   "cell_type": "code",
   "execution_count": null,
   "id": "a6f090f3",
   "metadata": {},
   "outputs": [],
   "source": [
    "df_appointments['Moring'] = df_appointments['Moring'].replace(False, 0)\n",
    "df_appointments['Moring'] = df_appointments['Moring'].replace(True, 1)"
   ]
  },
  {
   "cell_type": "code",
   "execution_count": null,
   "id": "ccecfe06",
   "metadata": {},
   "outputs": [],
   "source": [
    "df_appointments.ScheduledDay=df_appointments.loc[:].ScheduledDay.map(lambda x: str.split(x, \"T\")[0])\n",
    "df_appointments.AppointmentDay=df_appointments.loc[:].AppointmentDay.map(lambda x: str.split(x, \"T\")[0])\n",
    "\n",
    "df_appointments['AppointmentMonth']=df_appointments.loc[:].AppointmentDay.map(lambda x: str.split(x, \"-\")[1]).astype('int')\n",
    "df_appointments['Appointment_Day']=df_appointments.loc[:].AppointmentDay.map(lambda x: str.split(x, \"-\")[2]).astype('int')\n",
    "df_appointments['ScheduledMonth']=df_appointments.loc[:].ScheduledDay.map(lambda x: str.split(x, \"-\")[1]).astype('int')\n",
    "df_appointments['Scheduled_Day']=df_appointments.loc[:].ScheduledDay.map(lambda x: str.split(x, \"-\")[2]).astype('int')"
   ]
  },
  {
   "cell_type": "code",
   "execution_count": null,
   "id": "ecc29b67",
   "metadata": {},
   "outputs": [],
   "source": [
    "from datetime import date\n",
    "\n",
    "df_appointments['ScheduledDay'] = pd.to_datetime(df_appointments['ScheduledDay'])\n",
    "df_appointments['AppointmentDay'] = pd.to_datetime(df_appointments['AppointmentDay'])\n",
    "\n",
    "df_appointments['days'] = df_appointments['AppointmentDay'] - df_appointments['ScheduledDay'] \n",
    "\n",
    "# convert delta date to int\n",
    "df_appointments['days'] = (df_appointments.days / np.timedelta64(1,'D')).astype(int)"
   ]
  },
  {
   "cell_type": "code",
   "execution_count": null,
   "id": "415bac47",
   "metadata": {},
   "outputs": [],
   "source": [
    "df_appointments=df_appointments.drop(['Time'], axis = 1)\n",
    "#df_appointments = df_appointments.drop(['Neighbourhood'], axis = 1)\n",
    "df_appointments = df_appointments.drop(['AppointmentDay'], axis = 1)\n",
    "df_appointments = df_appointments.drop(['ScheduledDay'], axis = 1)"
   ]
  },
  {
   "cell_type": "code",
   "execution_count": null,
   "id": "44189adf",
   "metadata": {},
   "outputs": [],
   "source": [
    "plt.subplots(figsize=(15,10))\n",
    "dataplot = sns.heatmap(df_appointments.corr(), cbar=False, annot=True, cmap=\"Blues\", annot_kws={\"fontsize\":15})"
   ]
  },
  {
   "cell_type": "code",
   "execution_count": null,
   "id": "7be921d5",
   "metadata": {},
   "outputs": [],
   "source": [
    "df_appointments.shape"
   ]
  },
  {
   "cell_type": "markdown",
   "id": "4b4ebc04",
   "metadata": {},
   "source": [
    "# Split Data"
   ]
  },
  {
   "cell_type": "code",
   "execution_count": 29,
   "id": "5977de25",
   "metadata": {},
   "outputs": [],
   "source": [
    "X = df_appointments.drop(['No-show'], axis = 1)\n",
    "y = df_appointments['No-show']"
   ]
  },
  {
   "cell_type": "code",
   "execution_count": 30,
   "id": "7c28767d",
   "metadata": {},
   "outputs": [],
   "source": [
    "X_train, X_test, y_train, y_test = train_test_split(X, y, test_size = 0.05, random_state=42)\n",
    "X_train, X_val, y_train, y_val = train_test_split(X, y, test_size = 0.05, random_state=42)"
   ]
  },
  {
   "cell_type": "code",
   "execution_count": 33,
   "id": "017c2d0f",
   "metadata": {},
   "outputs": [
    {
     "data": {
      "text/html": [
       "<div>\n",
       "<style scoped>\n",
       "    .dataframe tbody tr th:only-of-type {\n",
       "        vertical-align: middle;\n",
       "    }\n",
       "\n",
       "    .dataframe tbody tr th {\n",
       "        vertical-align: top;\n",
       "    }\n",
       "\n",
       "    .dataframe thead th {\n",
       "        text-align: right;\n",
       "    }\n",
       "</style>\n",
       "<table border=\"1\" class=\"dataframe\">\n",
       "  <thead>\n",
       "    <tr style=\"text-align: right;\">\n",
       "      <th></th>\n",
       "      <th>PatientId</th>\n",
       "      <th>AppointmentID</th>\n",
       "      <th>Gender</th>\n",
       "      <th>Age</th>\n",
       "      <th>Neighbourhood</th>\n",
       "      <th>Scholarship</th>\n",
       "      <th>Hipertension</th>\n",
       "      <th>Diabetes</th>\n",
       "      <th>Alcoholism</th>\n",
       "      <th>Handcap</th>\n",
       "      <th>SMS_received</th>\n",
       "      <th>Moring</th>\n",
       "      <th>AppointmentMonth</th>\n",
       "      <th>Appointment_Day</th>\n",
       "      <th>ScheduledMonth</th>\n",
       "      <th>Scheduled_Day</th>\n",
       "      <th>days</th>\n",
       "    </tr>\n",
       "  </thead>\n",
       "  <tbody>\n",
       "    <tr>\n",
       "      <th>66642</th>\n",
       "      <td>5.118670e+13</td>\n",
       "      <td>5674426</td>\n",
       "      <td>0</td>\n",
       "      <td>45</td>\n",
       "      <td>PRAIA DO CANTO</td>\n",
       "      <td>0</td>\n",
       "      <td>0</td>\n",
       "      <td>0</td>\n",
       "      <td>0</td>\n",
       "      <td>0</td>\n",
       "      <td>0</td>\n",
       "      <td>1</td>\n",
       "      <td>5</td>\n",
       "      <td>9</td>\n",
       "      <td>5</td>\n",
       "      <td>9</td>\n",
       "      <td>0</td>\n",
       "    </tr>\n",
       "    <tr>\n",
       "      <th>36721</th>\n",
       "      <td>8.255470e+14</td>\n",
       "      <td>5752922</td>\n",
       "      <td>1</td>\n",
       "      <td>1</td>\n",
       "      <td>RESISTÊNCIA</td>\n",
       "      <td>0</td>\n",
       "      <td>0</td>\n",
       "      <td>0</td>\n",
       "      <td>0</td>\n",
       "      <td>0</td>\n",
       "      <td>0</td>\n",
       "      <td>0</td>\n",
       "      <td>5</td>\n",
       "      <td>31</td>\n",
       "      <td>5</td>\n",
       "      <td>31</td>\n",
       "      <td>0</td>\n",
       "    </tr>\n",
       "    <tr>\n",
       "      <th>48687</th>\n",
       "      <td>4.471120e+13</td>\n",
       "      <td>5634361</td>\n",
       "      <td>0</td>\n",
       "      <td>50</td>\n",
       "      <td>JARDIM DA PENHA</td>\n",
       "      <td>0</td>\n",
       "      <td>0</td>\n",
       "      <td>0</td>\n",
       "      <td>0</td>\n",
       "      <td>0</td>\n",
       "      <td>0</td>\n",
       "      <td>1</td>\n",
       "      <td>5</td>\n",
       "      <td>20</td>\n",
       "      <td>4</td>\n",
       "      <td>28</td>\n",
       "      <td>22</td>\n",
       "    </tr>\n",
       "    <tr>\n",
       "      <th>8236</th>\n",
       "      <td>7.115870e+14</td>\n",
       "      <td>5727078</td>\n",
       "      <td>0</td>\n",
       "      <td>40</td>\n",
       "      <td>JARDIM CAMBURI</td>\n",
       "      <td>0</td>\n",
       "      <td>0</td>\n",
       "      <td>0</td>\n",
       "      <td>0</td>\n",
       "      <td>0</td>\n",
       "      <td>0</td>\n",
       "      <td>0</td>\n",
       "      <td>5</td>\n",
       "      <td>20</td>\n",
       "      <td>5</td>\n",
       "      <td>20</td>\n",
       "      <td>0</td>\n",
       "    </tr>\n",
       "    <tr>\n",
       "      <th>28312</th>\n",
       "      <td>6.293551e+09</td>\n",
       "      <td>5621434</td>\n",
       "      <td>0</td>\n",
       "      <td>0</td>\n",
       "      <td>SANTO ANDRÉ</td>\n",
       "      <td>0</td>\n",
       "      <td>0</td>\n",
       "      <td>0</td>\n",
       "      <td>0</td>\n",
       "      <td>0</td>\n",
       "      <td>0</td>\n",
       "      <td>1</td>\n",
       "      <td>5</td>\n",
       "      <td>16</td>\n",
       "      <td>4</td>\n",
       "      <td>26</td>\n",
       "      <td>20</td>\n",
       "    </tr>\n",
       "    <tr>\n",
       "      <th>...</th>\n",
       "      <td>...</td>\n",
       "      <td>...</td>\n",
       "      <td>...</td>\n",
       "      <td>...</td>\n",
       "      <td>...</td>\n",
       "      <td>...</td>\n",
       "      <td>...</td>\n",
       "      <td>...</td>\n",
       "      <td>...</td>\n",
       "      <td>...</td>\n",
       "      <td>...</td>\n",
       "      <td>...</td>\n",
       "      <td>...</td>\n",
       "      <td>...</td>\n",
       "      <td>...</td>\n",
       "      <td>...</td>\n",
       "      <td>...</td>\n",
       "    </tr>\n",
       "    <tr>\n",
       "      <th>76820</th>\n",
       "      <td>4.876250e+11</td>\n",
       "      <td>5664593</td>\n",
       "      <td>0</td>\n",
       "      <td>63</td>\n",
       "      <td>SÃO PEDRO</td>\n",
       "      <td>0</td>\n",
       "      <td>1</td>\n",
       "      <td>1</td>\n",
       "      <td>0</td>\n",
       "      <td>0</td>\n",
       "      <td>1</td>\n",
       "      <td>0</td>\n",
       "      <td>5</td>\n",
       "      <td>10</td>\n",
       "      <td>5</td>\n",
       "      <td>5</td>\n",
       "      <td>5</td>\n",
       "    </tr>\n",
       "    <tr>\n",
       "      <th>110268</th>\n",
       "      <td>3.911650e+12</td>\n",
       "      <td>5622779</td>\n",
       "      <td>1</td>\n",
       "      <td>31</td>\n",
       "      <td>MARIA ORTIZ</td>\n",
       "      <td>0</td>\n",
       "      <td>0</td>\n",
       "      <td>0</td>\n",
       "      <td>0</td>\n",
       "      <td>0</td>\n",
       "      <td>0</td>\n",
       "      <td>0</td>\n",
       "      <td>6</td>\n",
       "      <td>1</td>\n",
       "      <td>4</td>\n",
       "      <td>26</td>\n",
       "      <td>36</td>\n",
       "    </tr>\n",
       "    <tr>\n",
       "      <th>103694</th>\n",
       "      <td>4.973440e+11</td>\n",
       "      <td>5762864</td>\n",
       "      <td>0</td>\n",
       "      <td>38</td>\n",
       "      <td>ANDORINHAS</td>\n",
       "      <td>0</td>\n",
       "      <td>0</td>\n",
       "      <td>0</td>\n",
       "      <td>0</td>\n",
       "      <td>0</td>\n",
       "      <td>0</td>\n",
       "      <td>1</td>\n",
       "      <td>6</td>\n",
       "      <td>8</td>\n",
       "      <td>6</td>\n",
       "      <td>2</td>\n",
       "      <td>6</td>\n",
       "    </tr>\n",
       "    <tr>\n",
       "      <th>860</th>\n",
       "      <td>2.623490e+14</td>\n",
       "      <td>5639951</td>\n",
       "      <td>0</td>\n",
       "      <td>18</td>\n",
       "      <td>MARUÍPE</td>\n",
       "      <td>1</td>\n",
       "      <td>0</td>\n",
       "      <td>0</td>\n",
       "      <td>0</td>\n",
       "      <td>0</td>\n",
       "      <td>0</td>\n",
       "      <td>1</td>\n",
       "      <td>4</td>\n",
       "      <td>29</td>\n",
       "      <td>4</td>\n",
       "      <td>29</td>\n",
       "      <td>0</td>\n",
       "    </tr>\n",
       "    <tr>\n",
       "      <th>15795</th>\n",
       "      <td>1.821130e+14</td>\n",
       "      <td>5637593</td>\n",
       "      <td>1</td>\n",
       "      <td>9</td>\n",
       "      <td>ILHA DO PRÍNCIPE</td>\n",
       "      <td>1</td>\n",
       "      <td>0</td>\n",
       "      <td>0</td>\n",
       "      <td>0</td>\n",
       "      <td>0</td>\n",
       "      <td>1</td>\n",
       "      <td>1</td>\n",
       "      <td>5</td>\n",
       "      <td>11</td>\n",
       "      <td>4</td>\n",
       "      <td>29</td>\n",
       "      <td>12</td>\n",
       "    </tr>\n",
       "  </tbody>\n",
       "</table>\n",
       "<p>105000 rows × 17 columns</p>\n",
       "</div>"
      ],
      "text/plain": [
       "           PatientId  AppointmentID  Gender  Age     Neighbourhood  \\\n",
       "66642   5.118670e+13        5674426       0   45    PRAIA DO CANTO   \n",
       "36721   8.255470e+14        5752922       1    1       RESISTÊNCIA   \n",
       "48687   4.471120e+13        5634361       0   50   JARDIM DA PENHA   \n",
       "8236    7.115870e+14        5727078       0   40    JARDIM CAMBURI   \n",
       "28312   6.293551e+09        5621434       0    0       SANTO ANDRÉ   \n",
       "...              ...            ...     ...  ...               ...   \n",
       "76820   4.876250e+11        5664593       0   63         SÃO PEDRO   \n",
       "110268  3.911650e+12        5622779       1   31       MARIA ORTIZ   \n",
       "103694  4.973440e+11        5762864       0   38        ANDORINHAS   \n",
       "860     2.623490e+14        5639951       0   18           MARUÍPE   \n",
       "15795   1.821130e+14        5637593       1    9  ILHA DO PRÍNCIPE   \n",
       "\n",
       "        Scholarship  Hipertension  Diabetes  Alcoholism  Handcap  \\\n",
       "66642             0             0         0           0        0   \n",
       "36721             0             0         0           0        0   \n",
       "48687             0             0         0           0        0   \n",
       "8236              0             0         0           0        0   \n",
       "28312             0             0         0           0        0   \n",
       "...             ...           ...       ...         ...      ...   \n",
       "76820             0             1         1           0        0   \n",
       "110268            0             0         0           0        0   \n",
       "103694            0             0         0           0        0   \n",
       "860               1             0         0           0        0   \n",
       "15795             1             0         0           0        0   \n",
       "\n",
       "        SMS_received  Moring  AppointmentMonth  Appointment_Day  \\\n",
       "66642              0       1                 5                9   \n",
       "36721              0       0                 5               31   \n",
       "48687              0       1                 5               20   \n",
       "8236               0       0                 5               20   \n",
       "28312              0       1                 5               16   \n",
       "...              ...     ...               ...              ...   \n",
       "76820              1       0                 5               10   \n",
       "110268             0       0                 6                1   \n",
       "103694             0       1                 6                8   \n",
       "860                0       1                 4               29   \n",
       "15795              1       1                 5               11   \n",
       "\n",
       "        ScheduledMonth  Scheduled_Day  days  \n",
       "66642                5              9     0  \n",
       "36721                5             31     0  \n",
       "48687                4             28    22  \n",
       "8236                 5             20     0  \n",
       "28312                4             26    20  \n",
       "...                ...            ...   ...  \n",
       "76820                5              5     5  \n",
       "110268               4             26    36  \n",
       "103694               6              2     6  \n",
       "860                  4             29     0  \n",
       "15795                4             29    12  \n",
       "\n",
       "[105000 rows x 17 columns]"
      ]
     },
     "execution_count": 33,
     "metadata": {},
     "output_type": "execute_result"
    }
   ],
   "source": []
  },
  {
   "cell_type": "code",
   "execution_count": 31,
   "id": "59d1a2c2",
   "metadata": {},
   "outputs": [
    {
     "data": {
      "text/plain": [
       "'\\n# summarize class distribution\\n\\nfrom imblearn.over_sampling import SMOTE\\nprint(\"Before oversampling: \",Counter(y_train))\\n\\n# define oversampling strategy\\nSMOTE = SMOTE()\\n\\n# fit and apply the transform\\nX_train_SMOTE, y_train_SMOTE = SMOTE.fit_resample(X_train, y_train)\\n\\n\\n# summarize class distribution\\nprint(\"After oversampling: \",Counter(y_train_SMOTE))\\n'"
      ]
     },
     "execution_count": 31,
     "metadata": {},
     "output_type": "execute_result"
    }
   ],
   "source": [
    "'''\n",
    "# summarize class distribution\n",
    "\n",
    "from imblearn.over_sampling import SMOTE\n",
    "print(\"Before oversampling: \",Counter(y_train))\n",
    "\n",
    "# define oversampling strategy\n",
    "SMOTE = SMOTE()\n",
    "\n",
    "# fit and apply the transform\n",
    "X_train_SMOTE, y_train_SMOTE = SMOTE.fit_resample(X_train, y_train)\n",
    "\n",
    "\n",
    "# summarize class distribution\n",
    "print(\"After oversampling: \",Counter(y_train_SMOTE))\n",
    "'''"
   ]
  },
  {
   "cell_type": "code",
   "execution_count": 32,
   "id": "8fd64e9e",
   "metadata": {},
   "outputs": [
    {
     "name": "stderr",
     "output_type": "stream",
     "text": [
      "/Users/abeer/opt/anaconda3/lib/python3.8/site-packages/imblearn/utils/_validation.py:299: UserWarning: After over-sampling, the number of samples (84788) in class 1 will be larger than the number of samples in the majority class (class #1 -> 83803)\n",
      "  warnings.warn(\n"
     ]
    },
    {
     "ename": "ValueError",
     "evalue": "could not convert string to float: 'PRAIA DO CANTO'",
     "output_type": "error",
     "traceback": [
      "\u001b[0;31m---------------------------------------------------------------------------\u001b[0m",
      "\u001b[0;31mValueError\u001b[0m                                Traceback (most recent call last)",
      "\u001b[0;32m<ipython-input-32-aa99c079b7b5>\u001b[0m in \u001b[0;36m<module>\u001b[0;34m\u001b[0m\n\u001b[1;32m     15\u001b[0m \u001b[0;34m\u001b[0m\u001b[0m\n\u001b[1;32m     16\u001b[0m \u001b[0mlr\u001b[0m \u001b[0;34m=\u001b[0m \u001b[0mLogisticRegression\u001b[0m\u001b[0;34m(\u001b[0m\u001b[0msolver\u001b[0m\u001b[0;34m=\u001b[0m\u001b[0;34m'liblinear'\u001b[0m\u001b[0;34m)\u001b[0m\u001b[0;34m\u001b[0m\u001b[0;34m\u001b[0m\u001b[0m\n\u001b[0;32m---> 17\u001b[0;31m \u001b[0mlr\u001b[0m\u001b[0;34m.\u001b[0m\u001b[0mfit\u001b[0m\u001b[0;34m(\u001b[0m\u001b[0mX_train\u001b[0m\u001b[0;34m,\u001b[0m \u001b[0my_train\u001b[0m\u001b[0;34m)\u001b[0m\u001b[0;34m\u001b[0m\u001b[0;34m\u001b[0m\u001b[0m\n\u001b[0m\u001b[1;32m     18\u001b[0m \u001b[0;34m\u001b[0m\u001b[0m\n\u001b[1;32m     19\u001b[0m print('Simple Logistic Regression; Test F1: %.3f, Test AUC: %.3f' % \\\n",
      "\u001b[0;32m~/opt/anaconda3/lib/python3.8/site-packages/sklearn/linear_model/_logistic.py\u001b[0m in \u001b[0;36mfit\u001b[0;34m(self, X, y, sample_weight)\u001b[0m\n\u001b[1;32m   1342\u001b[0m             \u001b[0m_dtype\u001b[0m \u001b[0;34m=\u001b[0m \u001b[0;34m[\u001b[0m\u001b[0mnp\u001b[0m\u001b[0;34m.\u001b[0m\u001b[0mfloat64\u001b[0m\u001b[0;34m,\u001b[0m \u001b[0mnp\u001b[0m\u001b[0;34m.\u001b[0m\u001b[0mfloat32\u001b[0m\u001b[0;34m]\u001b[0m\u001b[0;34m\u001b[0m\u001b[0;34m\u001b[0m\u001b[0m\n\u001b[1;32m   1343\u001b[0m \u001b[0;34m\u001b[0m\u001b[0m\n\u001b[0;32m-> 1344\u001b[0;31m         X, y = self._validate_data(X, y, accept_sparse='csr', dtype=_dtype,\n\u001b[0m\u001b[1;32m   1345\u001b[0m                                    \u001b[0morder\u001b[0m\u001b[0;34m=\u001b[0m\u001b[0;34m\"C\"\u001b[0m\u001b[0;34m,\u001b[0m\u001b[0;34m\u001b[0m\u001b[0;34m\u001b[0m\u001b[0m\n\u001b[1;32m   1346\u001b[0m                                    accept_large_sparse=solver != 'liblinear')\n",
      "\u001b[0;32m~/opt/anaconda3/lib/python3.8/site-packages/sklearn/base.py\u001b[0m in \u001b[0;36m_validate_data\u001b[0;34m(self, X, y, reset, validate_separately, **check_params)\u001b[0m\n\u001b[1;32m    431\u001b[0m                 \u001b[0my\u001b[0m \u001b[0;34m=\u001b[0m \u001b[0mcheck_array\u001b[0m\u001b[0;34m(\u001b[0m\u001b[0my\u001b[0m\u001b[0;34m,\u001b[0m \u001b[0;34m**\u001b[0m\u001b[0mcheck_y_params\u001b[0m\u001b[0;34m)\u001b[0m\u001b[0;34m\u001b[0m\u001b[0;34m\u001b[0m\u001b[0m\n\u001b[1;32m    432\u001b[0m             \u001b[0;32melse\u001b[0m\u001b[0;34m:\u001b[0m\u001b[0;34m\u001b[0m\u001b[0;34m\u001b[0m\u001b[0m\n\u001b[0;32m--> 433\u001b[0;31m                 \u001b[0mX\u001b[0m\u001b[0;34m,\u001b[0m \u001b[0my\u001b[0m \u001b[0;34m=\u001b[0m \u001b[0mcheck_X_y\u001b[0m\u001b[0;34m(\u001b[0m\u001b[0mX\u001b[0m\u001b[0;34m,\u001b[0m \u001b[0my\u001b[0m\u001b[0;34m,\u001b[0m \u001b[0;34m**\u001b[0m\u001b[0mcheck_params\u001b[0m\u001b[0;34m)\u001b[0m\u001b[0;34m\u001b[0m\u001b[0;34m\u001b[0m\u001b[0m\n\u001b[0m\u001b[1;32m    434\u001b[0m             \u001b[0mout\u001b[0m \u001b[0;34m=\u001b[0m \u001b[0mX\u001b[0m\u001b[0;34m,\u001b[0m \u001b[0my\u001b[0m\u001b[0;34m\u001b[0m\u001b[0;34m\u001b[0m\u001b[0m\n\u001b[1;32m    435\u001b[0m \u001b[0;34m\u001b[0m\u001b[0m\n",
      "\u001b[0;32m~/opt/anaconda3/lib/python3.8/site-packages/sklearn/utils/validation.py\u001b[0m in \u001b[0;36minner_f\u001b[0;34m(*args, **kwargs)\u001b[0m\n\u001b[1;32m     61\u001b[0m             \u001b[0mextra_args\u001b[0m \u001b[0;34m=\u001b[0m \u001b[0mlen\u001b[0m\u001b[0;34m(\u001b[0m\u001b[0margs\u001b[0m\u001b[0;34m)\u001b[0m \u001b[0;34m-\u001b[0m \u001b[0mlen\u001b[0m\u001b[0;34m(\u001b[0m\u001b[0mall_args\u001b[0m\u001b[0;34m)\u001b[0m\u001b[0;34m\u001b[0m\u001b[0;34m\u001b[0m\u001b[0m\n\u001b[1;32m     62\u001b[0m             \u001b[0;32mif\u001b[0m \u001b[0mextra_args\u001b[0m \u001b[0;34m<=\u001b[0m \u001b[0;36m0\u001b[0m\u001b[0;34m:\u001b[0m\u001b[0;34m\u001b[0m\u001b[0;34m\u001b[0m\u001b[0m\n\u001b[0;32m---> 63\u001b[0;31m                 \u001b[0;32mreturn\u001b[0m \u001b[0mf\u001b[0m\u001b[0;34m(\u001b[0m\u001b[0;34m*\u001b[0m\u001b[0margs\u001b[0m\u001b[0;34m,\u001b[0m \u001b[0;34m**\u001b[0m\u001b[0mkwargs\u001b[0m\u001b[0;34m)\u001b[0m\u001b[0;34m\u001b[0m\u001b[0;34m\u001b[0m\u001b[0m\n\u001b[0m\u001b[1;32m     64\u001b[0m \u001b[0;34m\u001b[0m\u001b[0m\n\u001b[1;32m     65\u001b[0m             \u001b[0;31m# extra_args > 0\u001b[0m\u001b[0;34m\u001b[0m\u001b[0;34m\u001b[0m\u001b[0;34m\u001b[0m\u001b[0m\n",
      "\u001b[0;32m~/opt/anaconda3/lib/python3.8/site-packages/sklearn/utils/validation.py\u001b[0m in \u001b[0;36mcheck_X_y\u001b[0;34m(X, y, accept_sparse, accept_large_sparse, dtype, order, copy, force_all_finite, ensure_2d, allow_nd, multi_output, ensure_min_samples, ensure_min_features, y_numeric, estimator)\u001b[0m\n\u001b[1;32m    812\u001b[0m         \u001b[0;32mraise\u001b[0m \u001b[0mValueError\u001b[0m\u001b[0;34m(\u001b[0m\u001b[0;34m\"y cannot be None\"\u001b[0m\u001b[0;34m)\u001b[0m\u001b[0;34m\u001b[0m\u001b[0;34m\u001b[0m\u001b[0m\n\u001b[1;32m    813\u001b[0m \u001b[0;34m\u001b[0m\u001b[0m\n\u001b[0;32m--> 814\u001b[0;31m     X = check_array(X, accept_sparse=accept_sparse,\n\u001b[0m\u001b[1;32m    815\u001b[0m                     \u001b[0maccept_large_sparse\u001b[0m\u001b[0;34m=\u001b[0m\u001b[0maccept_large_sparse\u001b[0m\u001b[0;34m,\u001b[0m\u001b[0;34m\u001b[0m\u001b[0;34m\u001b[0m\u001b[0m\n\u001b[1;32m    816\u001b[0m                     \u001b[0mdtype\u001b[0m\u001b[0;34m=\u001b[0m\u001b[0mdtype\u001b[0m\u001b[0;34m,\u001b[0m \u001b[0morder\u001b[0m\u001b[0;34m=\u001b[0m\u001b[0morder\u001b[0m\u001b[0;34m,\u001b[0m \u001b[0mcopy\u001b[0m\u001b[0;34m=\u001b[0m\u001b[0mcopy\u001b[0m\u001b[0;34m,\u001b[0m\u001b[0;34m\u001b[0m\u001b[0;34m\u001b[0m\u001b[0m\n",
      "\u001b[0;32m~/opt/anaconda3/lib/python3.8/site-packages/sklearn/utils/validation.py\u001b[0m in \u001b[0;36minner_f\u001b[0;34m(*args, **kwargs)\u001b[0m\n\u001b[1;32m     61\u001b[0m             \u001b[0mextra_args\u001b[0m \u001b[0;34m=\u001b[0m \u001b[0mlen\u001b[0m\u001b[0;34m(\u001b[0m\u001b[0margs\u001b[0m\u001b[0;34m)\u001b[0m \u001b[0;34m-\u001b[0m \u001b[0mlen\u001b[0m\u001b[0;34m(\u001b[0m\u001b[0mall_args\u001b[0m\u001b[0;34m)\u001b[0m\u001b[0;34m\u001b[0m\u001b[0;34m\u001b[0m\u001b[0m\n\u001b[1;32m     62\u001b[0m             \u001b[0;32mif\u001b[0m \u001b[0mextra_args\u001b[0m \u001b[0;34m<=\u001b[0m \u001b[0;36m0\u001b[0m\u001b[0;34m:\u001b[0m\u001b[0;34m\u001b[0m\u001b[0;34m\u001b[0m\u001b[0m\n\u001b[0;32m---> 63\u001b[0;31m                 \u001b[0;32mreturn\u001b[0m \u001b[0mf\u001b[0m\u001b[0;34m(\u001b[0m\u001b[0;34m*\u001b[0m\u001b[0margs\u001b[0m\u001b[0;34m,\u001b[0m \u001b[0;34m**\u001b[0m\u001b[0mkwargs\u001b[0m\u001b[0;34m)\u001b[0m\u001b[0;34m\u001b[0m\u001b[0;34m\u001b[0m\u001b[0m\n\u001b[0m\u001b[1;32m     64\u001b[0m \u001b[0;34m\u001b[0m\u001b[0m\n\u001b[1;32m     65\u001b[0m             \u001b[0;31m# extra_args > 0\u001b[0m\u001b[0;34m\u001b[0m\u001b[0;34m\u001b[0m\u001b[0;34m\u001b[0m\u001b[0m\n",
      "\u001b[0;32m~/opt/anaconda3/lib/python3.8/site-packages/sklearn/utils/validation.py\u001b[0m in \u001b[0;36mcheck_array\u001b[0;34m(array, accept_sparse, accept_large_sparse, dtype, order, copy, force_all_finite, ensure_2d, allow_nd, ensure_min_samples, ensure_min_features, estimator)\u001b[0m\n\u001b[1;32m    614\u001b[0m                     \u001b[0marray\u001b[0m \u001b[0;34m=\u001b[0m \u001b[0marray\u001b[0m\u001b[0;34m.\u001b[0m\u001b[0mastype\u001b[0m\u001b[0;34m(\u001b[0m\u001b[0mdtype\u001b[0m\u001b[0;34m,\u001b[0m \u001b[0mcasting\u001b[0m\u001b[0;34m=\u001b[0m\u001b[0;34m\"unsafe\"\u001b[0m\u001b[0;34m,\u001b[0m \u001b[0mcopy\u001b[0m\u001b[0;34m=\u001b[0m\u001b[0;32mFalse\u001b[0m\u001b[0;34m)\u001b[0m\u001b[0;34m\u001b[0m\u001b[0;34m\u001b[0m\u001b[0m\n\u001b[1;32m    615\u001b[0m                 \u001b[0;32melse\u001b[0m\u001b[0;34m:\u001b[0m\u001b[0;34m\u001b[0m\u001b[0;34m\u001b[0m\u001b[0m\n\u001b[0;32m--> 616\u001b[0;31m                     \u001b[0marray\u001b[0m \u001b[0;34m=\u001b[0m \u001b[0mnp\u001b[0m\u001b[0;34m.\u001b[0m\u001b[0masarray\u001b[0m\u001b[0;34m(\u001b[0m\u001b[0marray\u001b[0m\u001b[0;34m,\u001b[0m \u001b[0morder\u001b[0m\u001b[0;34m=\u001b[0m\u001b[0morder\u001b[0m\u001b[0;34m,\u001b[0m \u001b[0mdtype\u001b[0m\u001b[0;34m=\u001b[0m\u001b[0mdtype\u001b[0m\u001b[0;34m)\u001b[0m\u001b[0;34m\u001b[0m\u001b[0;34m\u001b[0m\u001b[0m\n\u001b[0m\u001b[1;32m    617\u001b[0m             \u001b[0;32mexcept\u001b[0m \u001b[0mComplexWarning\u001b[0m \u001b[0;32mas\u001b[0m \u001b[0mcomplex_warning\u001b[0m\u001b[0;34m:\u001b[0m\u001b[0;34m\u001b[0m\u001b[0;34m\u001b[0m\u001b[0m\n\u001b[1;32m    618\u001b[0m                 raise ValueError(\"Complex data not supported\\n\"\n",
      "\u001b[0;32m~/opt/anaconda3/lib/python3.8/site-packages/numpy/core/_asarray.py\u001b[0m in \u001b[0;36masarray\u001b[0;34m(a, dtype, order, like)\u001b[0m\n\u001b[1;32m    100\u001b[0m         \u001b[0;32mreturn\u001b[0m \u001b[0m_asarray_with_like\u001b[0m\u001b[0;34m(\u001b[0m\u001b[0ma\u001b[0m\u001b[0;34m,\u001b[0m \u001b[0mdtype\u001b[0m\u001b[0;34m=\u001b[0m\u001b[0mdtype\u001b[0m\u001b[0;34m,\u001b[0m \u001b[0morder\u001b[0m\u001b[0;34m=\u001b[0m\u001b[0morder\u001b[0m\u001b[0;34m,\u001b[0m \u001b[0mlike\u001b[0m\u001b[0;34m=\u001b[0m\u001b[0mlike\u001b[0m\u001b[0;34m)\u001b[0m\u001b[0;34m\u001b[0m\u001b[0;34m\u001b[0m\u001b[0m\n\u001b[1;32m    101\u001b[0m \u001b[0;34m\u001b[0m\u001b[0m\n\u001b[0;32m--> 102\u001b[0;31m     \u001b[0;32mreturn\u001b[0m \u001b[0marray\u001b[0m\u001b[0;34m(\u001b[0m\u001b[0ma\u001b[0m\u001b[0;34m,\u001b[0m \u001b[0mdtype\u001b[0m\u001b[0;34m,\u001b[0m \u001b[0mcopy\u001b[0m\u001b[0;34m=\u001b[0m\u001b[0;32mFalse\u001b[0m\u001b[0;34m,\u001b[0m \u001b[0morder\u001b[0m\u001b[0;34m=\u001b[0m\u001b[0morder\u001b[0m\u001b[0;34m)\u001b[0m\u001b[0;34m\u001b[0m\u001b[0;34m\u001b[0m\u001b[0m\n\u001b[0m\u001b[1;32m    103\u001b[0m \u001b[0;34m\u001b[0m\u001b[0m\n\u001b[1;32m    104\u001b[0m \u001b[0;34m\u001b[0m\u001b[0m\n",
      "\u001b[0;32m~/opt/anaconda3/lib/python3.8/site-packages/pandas/core/generic.py\u001b[0m in \u001b[0;36m__array__\u001b[0;34m(self, dtype)\u001b[0m\n\u001b[1;32m   1897\u001b[0m \u001b[0;34m\u001b[0m\u001b[0m\n\u001b[1;32m   1898\u001b[0m     \u001b[0;32mdef\u001b[0m \u001b[0m__array__\u001b[0m\u001b[0;34m(\u001b[0m\u001b[0mself\u001b[0m\u001b[0;34m,\u001b[0m \u001b[0mdtype\u001b[0m\u001b[0;34m=\u001b[0m\u001b[0;32mNone\u001b[0m\u001b[0;34m)\u001b[0m \u001b[0;34m->\u001b[0m \u001b[0mnp\u001b[0m\u001b[0;34m.\u001b[0m\u001b[0mndarray\u001b[0m\u001b[0;34m:\u001b[0m\u001b[0;34m\u001b[0m\u001b[0;34m\u001b[0m\u001b[0m\n\u001b[0;32m-> 1899\u001b[0;31m         \u001b[0;32mreturn\u001b[0m \u001b[0mnp\u001b[0m\u001b[0;34m.\u001b[0m\u001b[0masarray\u001b[0m\u001b[0;34m(\u001b[0m\u001b[0mself\u001b[0m\u001b[0;34m.\u001b[0m\u001b[0m_values\u001b[0m\u001b[0;34m,\u001b[0m \u001b[0mdtype\u001b[0m\u001b[0;34m=\u001b[0m\u001b[0mdtype\u001b[0m\u001b[0;34m)\u001b[0m\u001b[0;34m\u001b[0m\u001b[0;34m\u001b[0m\u001b[0m\n\u001b[0m\u001b[1;32m   1900\u001b[0m \u001b[0;34m\u001b[0m\u001b[0m\n\u001b[1;32m   1901\u001b[0m     def __array_wrap__(\n",
      "\u001b[0;32m~/opt/anaconda3/lib/python3.8/site-packages/numpy/core/_asarray.py\u001b[0m in \u001b[0;36masarray\u001b[0;34m(a, dtype, order, like)\u001b[0m\n\u001b[1;32m    100\u001b[0m         \u001b[0;32mreturn\u001b[0m \u001b[0m_asarray_with_like\u001b[0m\u001b[0;34m(\u001b[0m\u001b[0ma\u001b[0m\u001b[0;34m,\u001b[0m \u001b[0mdtype\u001b[0m\u001b[0;34m=\u001b[0m\u001b[0mdtype\u001b[0m\u001b[0;34m,\u001b[0m \u001b[0morder\u001b[0m\u001b[0;34m=\u001b[0m\u001b[0morder\u001b[0m\u001b[0;34m,\u001b[0m \u001b[0mlike\u001b[0m\u001b[0;34m=\u001b[0m\u001b[0mlike\u001b[0m\u001b[0;34m)\u001b[0m\u001b[0;34m\u001b[0m\u001b[0;34m\u001b[0m\u001b[0m\n\u001b[1;32m    101\u001b[0m \u001b[0;34m\u001b[0m\u001b[0m\n\u001b[0;32m--> 102\u001b[0;31m     \u001b[0;32mreturn\u001b[0m \u001b[0marray\u001b[0m\u001b[0;34m(\u001b[0m\u001b[0ma\u001b[0m\u001b[0;34m,\u001b[0m \u001b[0mdtype\u001b[0m\u001b[0;34m,\u001b[0m \u001b[0mcopy\u001b[0m\u001b[0;34m=\u001b[0m\u001b[0;32mFalse\u001b[0m\u001b[0;34m,\u001b[0m \u001b[0morder\u001b[0m\u001b[0;34m=\u001b[0m\u001b[0morder\u001b[0m\u001b[0;34m)\u001b[0m\u001b[0;34m\u001b[0m\u001b[0;34m\u001b[0m\u001b[0m\n\u001b[0m\u001b[1;32m    103\u001b[0m \u001b[0;34m\u001b[0m\u001b[0m\n\u001b[1;32m    104\u001b[0m \u001b[0;34m\u001b[0m\u001b[0m\n",
      "\u001b[0;31mValueError\u001b[0m: could not convert string to float: 'PRAIA DO CANTO'"
     ]
    }
   ],
   "source": [
    "#!conda install -c conda-forge imbalanced-learn\n",
    "\n",
    "import imblearn.over_sampling\n",
    "\n",
    "# setup for the ratio argument of RandomOverSampler initialization\n",
    "n_pos = np.sum(y_train == 0)\n",
    "n_neg = np.sum(y_train == 1)\n",
    "ratio = {1 : n_pos * 4, 0 : n_neg}  # n_pos * 4, دبلتها ٤ مرات\n",
    "\n",
    "# randomly oversample positive samples: create 4x as many \n",
    "ROS = imblearn.over_sampling.RandomOverSampler(sampling_strategy = ratio, random_state=42) \n",
    "    \n",
    "X_tr_rs, y_tr_rs = ROS.fit_resample(X_train, y_train)\n",
    "\n",
    "\n",
    "lr = LogisticRegression(solver='liblinear') \n",
    "lr.fit(X_train, y_train)\n",
    "\n",
    "print('Simple Logistic Regression; Test F1: %.3f, Test AUC: %.3f' % \\\n",
    "      (f1_score(y_val, lr.predict(X_val)), roc_auc_score(y_val, lr.predict_proba(X_val)[:,1]))) \n",
    "\n",
    "lr_os = LogisticRegression(solver='liblinear') # lr_os= over samling\n",
    "lr_os.fit(X_tr_rs, y_tr_rs)\n",
    "\n",
    "print('Logistic Regression on Oversampled Train Data; Test F1: %.3f, Test AUC: %.3f' % \\\n",
    "      (f1_score(y_val, lr_os.predict(X_val)), roc_auc_score(y_val, lr_os.predict_proba(X_val)[:,1])))"
   ]
  },
  {
   "cell_type": "code",
   "execution_count": 477,
   "id": "369c17c5",
   "metadata": {},
   "outputs": [
    {
     "data": {
      "text/plain": [
       "173133"
      ]
     },
     "execution_count": 477,
     "metadata": {},
     "output_type": "execute_result"
    }
   ],
   "source": [
    "# train + test\n",
    "new_size_data = 167606 + 5527\n",
    "new_size_data"
   ]
  },
  {
   "cell_type": "code",
   "execution_count": 478,
   "id": "f4564642",
   "metadata": {},
   "outputs": [],
   "source": [
    "X_train_SMOTE = X_train_SMOTE.drop(['AppointmentID','PatientId','days','SMS_received','Scheduled_Day','Appointment_Day','Scholarship'], axis = 1)\n",
    "X_val = X_val.drop(['AppointmentID','PatientId','days','SMS_received','Scheduled_Day','Appointment_Day','Scholarship'], axis = 1)"
   ]
  },
  {
   "cell_type": "markdown",
   "id": "97eb9693",
   "metadata": {},
   "source": [
    "# Modules and Grid Search CV"
   ]
  },
  {
   "cell_type": "markdown",
   "id": "81e698a4",
   "metadata": {},
   "source": [
    "* Logistic Regression\n",
    "* Knn \n",
    "* Decision Tree \n",
    "* Random Forest\n",
    "* Extra Trees\n",
    "* Max Voting\n",
    "* Average Voting\n",
    "* Gaussian Naive Bayes\n",
    "* Bernoulli Naive Bayes \n",
    "* Grid Search Cross Validation"
   ]
  },
  {
   "cell_type": "code",
   "execution_count": 511,
   "id": "cd313cec",
   "metadata": {},
   "outputs": [
    {
     "name": "stderr",
     "output_type": "stream",
     "text": [
      "/Users/abeer/opt/anaconda3/lib/python3.8/site-packages/sklearn/linear_model/_logistic.py:763: ConvergenceWarning: lbfgs failed to converge (status=1):\n",
      "STOP: TOTAL NO. of ITERATIONS REACHED LIMIT.\n",
      "\n",
      "Increase the number of iterations (max_iter) or scale the data as shown in:\n",
      "    https://scikit-learn.org/stable/modules/preprocessing.html\n",
      "Please also refer to the documentation for alternative solver options:\n",
      "    https://scikit-learn.org/stable/modules/linear_model.html#logistic-regression\n",
      "  n_iter_i = _check_optimize_result(\n"
     ]
    },
    {
     "data": {
      "text/plain": [
       "LogisticRegression()"
      ]
     },
     "execution_count": 511,
     "metadata": {},
     "output_type": "execute_result"
    }
   ],
   "source": [
    "lm1 = LogisticRegression() \n",
    "lm1.fit(X_train_SMOTE, y_train_SMOTE)"
   ]
  },
  {
   "cell_type": "code",
   "execution_count": 513,
   "id": "aeed9d64",
   "metadata": {},
   "outputs": [
    {
     "data": {
      "text/plain": [
       "0.698596708948367"
      ]
     },
     "execution_count": 513,
     "metadata": {},
     "output_type": "execute_result"
    }
   ],
   "source": [
    "lm1.score(X_train_SMOTE, y_train_SMOTE)"
   ]
  },
  {
   "cell_type": "code",
   "execution_count": 516,
   "id": "a5e396d4",
   "metadata": {},
   "outputs": [
    {
     "data": {
      "text/plain": [
       "0.6984594823574335"
      ]
     },
     "execution_count": 516,
     "metadata": {},
     "output_type": "execute_result"
    }
   ],
   "source": [
    "from sklearn.preprocessing import StandardScaler\n",
    "std_scale = StandardScaler()\n",
    "\n",
    "X_train_scaled = std_scale.fit_transform(X_train_SMOTE)\n",
    "lm1.fit(X_train_scaled, y_train_SMOTE)\n",
    "\n",
    "y_predict = lm1.predict(X_train_scaled) \n",
    "lm1.score(X_train_scaled, y_train_SMOTE)"
   ]
  },
  {
   "cell_type": "markdown",
   "id": "3a58ab5e",
   "metadata": {},
   "source": [
    "## Logistic Regression"
   ]
  },
  {
   "cell_type": "code",
   "execution_count": 479,
   "id": "6682d906",
   "metadata": {},
   "outputs": [
    {
     "data": {
      "text/plain": [
       "\"'\\ndt_range = list(range(1, 100))\\nparam_grid = dict(C=dt_range)\\n\""
      ]
     },
     "execution_count": 479,
     "metadata": {},
     "output_type": "execute_result"
    }
   ],
   "source": [
    "''''\n",
    "dt_range = list(range(1, 100))\n",
    "param_grid = dict(C=dt_range)\n",
    "'''"
   ]
  },
  {
   "cell_type": "code",
   "execution_count": 480,
   "id": "cdfaffcc",
   "metadata": {},
   "outputs": [
    {
     "data": {
      "text/plain": [
       "'\\n\\nlog_reg = LogisticRegression()\\ngrid = GridSearchCV(log_reg, param_grid, cv=5, scoring=\\'accuracy\\')\\ngrid.fit(X_train_SMOTE, y_train_SMOTE)\\n\\nprint(\"Best params: \", grid.best_params_)\\nprint(\"Best estimator: \", grid.best_estimator_)\\nprint(\"Best score: \", grid.best_score_)\\n'"
      ]
     },
     "execution_count": 480,
     "metadata": {},
     "output_type": "execute_result"
    }
   ],
   "source": [
    "'''\n",
    "\n",
    "log_reg = LogisticRegression()\n",
    "grid = GridSearchCV(log_reg, param_grid, cv=5, scoring='accuracy')\n",
    "grid.fit(X_train_SMOTE, y_train_SMOTE)\n",
    "\n",
    "print(\"Best params: \", grid.best_params_)\n",
    "print(\"Best estimator: \", grid.best_estimator_)\n",
    "print(\"Best score: \", grid.best_score_)\n",
    "'''"
   ]
  },
  {
   "cell_type": "code",
   "execution_count": 481,
   "id": "9aa7e69e",
   "metadata": {},
   "outputs": [
    {
     "name": "stdout",
     "output_type": "stream",
     "text": [
      "The score for logistic regression\n",
      "Training set is :  69.86%\n",
      "validation set is:  65.71%\n"
     ]
    },
    {
     "name": "stderr",
     "output_type": "stream",
     "text": [
      "/Users/abeer/opt/anaconda3/lib/python3.8/site-packages/sklearn/linear_model/_logistic.py:763: ConvergenceWarning: lbfgs failed to converge (status=1):\n",
      "STOP: TOTAL NO. of ITERATIONS REACHED LIMIT.\n",
      "\n",
      "Increase the number of iterations (max_iter) or scale the data as shown in:\n",
      "    https://scikit-learn.org/stable/modules/preprocessing.html\n",
      "Please also refer to the documentation for alternative solver options:\n",
      "    https://scikit-learn.org/stable/modules/linear_model.html#logistic-regression\n",
      "  n_iter_i = _check_optimize_result(\n"
     ]
    }
   ],
   "source": [
    "log_reg = LogisticRegression( C=1 )\n",
    "log_reg.fit(X_train_SMOTE, y_train_SMOTE)\n",
    "print(\"The score for logistic regression\")\n",
    "print(\"Training set is : {:6.2f}%\".format(100*log_reg.score(X_train_SMOTE, y_train_SMOTE)))\n",
    "print(\"validation set is: {:6.2f}%\".format(100*log_reg.score(X_val, y_val)))"
   ]
  },
  {
   "cell_type": "markdown",
   "id": "7dfc3f81",
   "metadata": {},
   "source": [
    "## Knn"
   ]
  },
  {
   "cell_type": "code",
   "execution_count": 230,
   "id": "0dab565e",
   "metadata": {},
   "outputs": [],
   "source": [
    "#knn =KNeighborsClassifier()\n",
    "#grid = GridSearchCV(knn, param_grid, cv=5, scoring='accuracy')\n",
    "#grid.fit(X_train_scaled1, subset_y_train)\n",
    "\n",
    "#print(\"Best params: \", grid.best_params_)\n",
    "#print(\"Best estimator: \", grid.best_estimator_)\n",
    "#print(\"Best score: \", grid.best_score_)"
   ]
  },
  {
   "cell_type": "code",
   "execution_count": 484,
   "id": "6c898ec7",
   "metadata": {},
   "outputs": [
    {
     "name": "stdout",
     "output_type": "stream",
     "text": [
      "The score for kNN is\n",
      "Training set:  72.20%\n",
      "validation set:  65.51%\n"
     ]
    }
   ],
   "source": [
    "knn = KNeighborsClassifier(n_neighbors=55, weights='distance')\n",
    "knn.fit(X_train_SMOTE, y_train_SMOTE)\n",
    "print(\"The score for kNN is\")\n",
    "print(\"Training set: {:6.2f}%\".format(100*knn.score(X_train_SMOTE, y_train_SMOTE)))\n",
    "print(\"validation set: {:6.2f}%\".format(100*knn.score(X_val, y_val)))"
   ]
  },
  {
   "cell_type": "markdown",
   "id": "36d7f0d6",
   "metadata": {},
   "source": [
    "## Decision Tree "
   ]
  },
  {
   "cell_type": "code",
   "execution_count": 235,
   "id": "48b06767",
   "metadata": {},
   "outputs": [
    {
     "name": "stdout",
     "output_type": "stream",
     "text": [
      "Best params:  {'max_depth': 21}\n",
      "Best estimator:  DecisionTreeClassifier(max_depth=21)\n",
      "Best score:  0.7909812003987623\n"
     ]
    }
   ],
   "source": [
    "# output\n",
    "#Best params:  {'max_depth': 21}\n",
    "#Best estimator:  DecisionTreeClassifier(max_depth=21)\n",
    "#Best score:  0.7909812003987623\n",
    "\n",
    "'''\n",
    "decisiontree = DecisionTreeClassifier()\n",
    "dt_range = list(range(1, 31))\n",
    "param_grid = dict(max_depth=dt_range)\n",
    "grid = GridSearchCV(decisiontree, param_grid, cv=5, scoring='accuracy')\n",
    "grid.fit(X_train_SMOTE, y_train_SMOTE)\n",
    "\n",
    "print(\"Best params: \", grid.best_params_)\n",
    "print(\"Best estimator: \", grid.best_estimator_)\n",
    "print(\"Best score: \", grid.best_score_)\n",
    "'''"
   ]
  },
  {
   "cell_type": "code",
   "execution_count": 487,
   "id": "3314f9ae",
   "metadata": {},
   "outputs": [
    {
     "name": "stdout",
     "output_type": "stream",
     "text": [
      "The score for decision tree \n",
      "Training set is :  72.88%\n",
      "validation set is:  65.39%\n"
     ]
    }
   ],
   "source": [
    "decisiontree = DecisionTreeClassifier(max_depth=21)\n",
    "decisiontree.fit(X_train_SMOTE, y_train_SMOTE)\n",
    "print(\"The score for decision tree \")\n",
    "print(\"Training set is : {:6.2f}%\".format(100*decisiontree.score(X_train_SMOTE, y_train_SMOTE)))\n",
    "print(\"validation set is: {:6.2f}%\".format(100*decisiontree.score(X_val, y_val)))"
   ]
  },
  {
   "cell_type": "code",
   "execution_count": 238,
   "id": "f5c60312",
   "metadata": {},
   "outputs": [
    {
     "data": {
      "text/plain": [
       "\"\\naccuracies = []\\nprecisions = []\\nrecalls = []\\nroc_scores = []\\nf1_scores = []\\n\\n\\naccuracies.append(round(accuracy_score(y_val, decisiontree.predict(X_val)),4))\\nf1_scores.append(round(f1_score(y_val, decisiontree.predict(X_val)),4))\\nprecisions.append(round(precision_score(y_val, decisiontree.predict(X_val)),4))\\nrecalls.append(round(recall_score(y_val, decisiontree.predict(X_val)),4))\\nroc_scores.append(round(roc_auc_score(y_val, decisiontree.predict(X_val)),4)) \\n\\nprint(f'{decisiontree} Accuracy: {round(accuracy_score(y_val, decisiontree.predict(X_val)), 4)}')\\nprint(f'{decisiontree} Precision: {round(precision_score(y_val, decisiontree.predict(X_val)), 4)}')\\nprint(f'{decisiontree} Recall: {round(recall_score(y_val, decisiontree.predict(X_val)), 4)}')\\nprint(f'{decisiontree} F1_Score: {round(f1_score(y_val, decisiontree.predict(X_val)), 4)}\\n\\n')\\n\""
      ]
     },
     "execution_count": 238,
     "metadata": {},
     "output_type": "execute_result"
    }
   ],
   "source": [
    "'''\n",
    "accuracies = []\n",
    "precisions = []\n",
    "recalls = []\n",
    "roc_scores = []\n",
    "f1_scores = []\n",
    "\n",
    "\n",
    "accuracies.append(round(accuracy_score(y_val, decisiontree.predict(X_val)),4))\n",
    "f1_scores.append(round(f1_score(y_val, decisiontree.predict(X_val)),4))\n",
    "precisions.append(round(precision_score(y_val, decisiontree.predict(X_val)),4))\n",
    "recalls.append(round(recall_score(y_val, decisiontree.predict(X_val)),4))\n",
    "roc_scores.append(round(roc_auc_score(y_val, decisiontree.predict(X_val)),4)) \n",
    "\n",
    "print(f'{decisiontree} Accuracy: {round(accuracy_score(y_val, decisiontree.predict(X_val)), 4)}')\n",
    "print(f'{decisiontree} Precision: {round(precision_score(y_val, decisiontree.predict(X_val)), 4)}')\n",
    "print(f'{decisiontree} Recall: {round(recall_score(y_val, decisiontree.predict(X_val)), 4)}')\n",
    "print(f'{decisiontree} F1_Score: {round(f1_score(y_val, decisiontree.predict(X_val)), 4)}\\n\\n')\n",
    "'''"
   ]
  },
  {
   "cell_type": "markdown",
   "id": "10d03486",
   "metadata": {},
   "source": [
    "## Random Forest "
   ]
  },
  {
   "cell_type": "code",
   "execution_count": null,
   "id": "054f41a8",
   "metadata": {},
   "outputs": [],
   "source": [
    "#output\n",
    "#Best params:  {'n_estimators': 161}\n",
    "#Best estimator:  RandomForestClassifier(n_estimators=161)\n",
    "#Best score:  0.8337961725102849"
   ]
  },
  {
   "cell_type": "code",
   "execution_count": 239,
   "id": "71313048",
   "metadata": {},
   "outputs": [],
   "source": [
    "''''\n",
    "rd_range = list(range(1, 200, 10))\n",
    "param_grid = dict(n_estimators=rd_range)\n",
    "'''"
   ]
  },
  {
   "cell_type": "code",
   "execution_count": 242,
   "id": "5e083bd5",
   "metadata": {},
   "outputs": [
    {
     "name": "stdout",
     "output_type": "stream",
     "text": [
      "Best params:  {'n_estimators': 161}\n",
      "Best estimator:  RandomForestClassifier(n_estimators=161)\n",
      "Best score:  0.8337961725102849\n"
     ]
    }
   ],
   "source": [
    "'''\n",
    "randomforest = RandomForestClassifier()\n",
    "grid = GridSearchCV(randomforest, param_grid, cv=5, scoring='accuracy')\n",
    "grid.fit(X_train_SMOTE ,y_train_SMOTE)\n",
    "\n",
    "print(\"Best params: \", grid.best_params_)\n",
    "print(\"Best estimator: \", grid.best_estimator_)\n",
    "print(\"Best score: \", grid.best_score_)\n",
    "'''"
   ]
  },
  {
   "cell_type": "code",
   "execution_count": 488,
   "id": "db569b83",
   "metadata": {},
   "outputs": [
    {
     "name": "stdout",
     "output_type": "stream",
     "text": [
      "The score for random forest \n",
      "Training set is :  72.91%\n",
      "validation set is:  65.66%\n"
     ]
    }
   ],
   "source": [
    "randomforest = RandomForestClassifier(n_estimators=161)\n",
    "randomforest.fit(X_train_SMOTE, y_train_SMOTE)\n",
    "print(\"The score for random forest \")\n",
    "print(\"Training set is : {:6.2f}%\".format(100*randomforest.score(X_train_SMOTE, y_train_SMOTE)))\n",
    "print(\"validation set is: {:6.2f}%\".format(100*randomforest.score(X_val, y_val)))"
   ]
  },
  {
   "cell_type": "markdown",
   "id": "29d217b1",
   "metadata": {},
   "source": [
    "## Extra Trees"
   ]
  },
  {
   "cell_type": "code",
   "execution_count": null,
   "id": "e635aa6f",
   "metadata": {},
   "outputs": [],
   "source": [
    "# output\n",
    "#Best params:  {'n_estimators': 77}\n",
    "#Best estimator:  ExtraTreesClassifier(n_estimators=77)\n",
    "#Best score:  0.7611986282721173\n",
    "\n",
    "''''\n",
    "# define the parameter values that should be searched\n",
    "et = ExtraTreesClassifier()\n",
    "k_range = list(range(1, 100))\n",
    "param_grid = dict(n_estimators=k_range)\n",
    "grid1 = GridSearchCV(et, param_grid, cv=10, scoring='accuracy')\n",
    "'''"
   ]
  },
  {
   "cell_type": "code",
   "execution_count": null,
   "id": "32dc80ba",
   "metadata": {},
   "outputs": [],
   "source": [
    "# fit the grid with data\n",
    "#grid1.fit(X, y);"
   ]
  },
  {
   "cell_type": "code",
   "execution_count": null,
   "id": "8006dfbc",
   "metadata": {},
   "outputs": [],
   "source": [
    "# examine the best model\n",
    "#print(\"Best params: \", grid1.best_params_)\n",
    "#print(\"Best estimator: \", grid1.best_estimator_)\n",
    "#print(\"Best score: \", grid1.best_score_)"
   ]
  },
  {
   "cell_type": "code",
   "execution_count": 490,
   "id": "427d08a4",
   "metadata": {},
   "outputs": [
    {
     "name": "stdout",
     "output_type": "stream",
     "text": [
      "The score for random forest \n",
      "Training set is :  72.91%\n",
      "validation set is:  65.33%\n"
     ]
    }
   ],
   "source": [
    "et = ensemble.ExtraTreesClassifier(n_estimators=77, random_state=1) \n",
    "et.fit(X_train_SMOTE, y_train_SMOTE)\n",
    "print(\"The score for random forest \")\n",
    "print(\"Training set is : {:6.2f}%\".format(100*et.score(X_train_SMOTE, y_train_SMOTE)))\n",
    "print(\"validation set is: {:6.2f}%\".format(100*et.score(X_val, y_val)))"
   ]
  },
  {
   "cell_type": "markdown",
   "id": "3a026610",
   "metadata": {},
   "source": [
    "## XGBClassifier"
   ]
  },
  {
   "cell_type": "code",
   "execution_count": 491,
   "id": "c7ee5815",
   "metadata": {},
   "outputs": [
    {
     "name": "stdout",
     "output_type": "stream",
     "text": [
      "The score for XGB classifier\n",
      "Training set is :  72.48%\n",
      "validation set is:  66.46%\n"
     ]
    }
   ],
   "source": [
    "import xgboost as xgb\n",
    "gbm = xgb.XGBClassifier( \n",
    "                        n_estimators=900,\n",
    "                        max_depth=9,\n",
    "                        objective='binary:logistic', #new objective\n",
    "                        learning_rate=.05, \n",
    "                        subsample=.8,\n",
    "                        min_child_weight=1,\n",
    "                        colsample_bytree=.8\n",
    "    \n",
    "                       )\n",
    "                       \n",
    "gbm.fit(X_train_SMOTE, y_train_SMOTE)\n",
    "print(\"The score for XGB classifier\")\n",
    "print(\"Training set is : {:6.2f}%\".format(100*gbm.score(X_train_SMOTE, y_train_SMOTE)))\n",
    "print(\"validation set is: {:6.2f}%\".format(100*gbm.score(X_val, y_val)))\n"
   ]
  },
  {
   "cell_type": "markdown",
   "id": "f336db44",
   "metadata": {},
   "source": [
    "## Max Voting"
   ]
  },
  {
   "cell_type": "code",
   "execution_count": 498,
   "id": "fc125181",
   "metadata": {},
   "outputs": [],
   "source": [
    "lr_model = linear_model.LogisticRegression(solver=\"lbfgs\", random_state=1)\n",
    "knn_model = neighbors.KNeighborsClassifier()\n",
    "rf_model = ensemble.RandomForestClassifier(n_estimators=55, random_state=1)#  100 مية شجرة \n",
    "et_model = ensemble.ExtraTreesClassifier(n_estimators=100, random_state=1) # ExtraTreesClassifier يستعمل كل الراندوم \n",
    "\n",
    "models = [\"lr_model\", \"knn_model\", \"rf_model\", \"et_model\"]"
   ]
  },
  {
   "cell_type": "code",
   "execution_count": 499,
   "id": "63dbea9a",
   "metadata": {},
   "outputs": [
    {
     "name": "stderr",
     "output_type": "stream",
     "text": [
      "/Users/abeer/opt/anaconda3/lib/python3.8/site-packages/sklearn/linear_model/_logistic.py:763: ConvergenceWarning: lbfgs failed to converge (status=1):\n",
      "STOP: TOTAL NO. of ITERATIONS REACHED LIMIT.\n",
      "\n",
      "Increase the number of iterations (max_iter) or scale the data as shown in:\n",
      "    https://scikit-learn.org/stable/modules/preprocessing.html\n",
      "Please also refer to the documentation for alternative solver options:\n",
      "    https://scikit-learn.org/stable/modules/linear_model.html#logistic-regression\n",
      "  n_iter_i = _check_optimize_result(\n"
     ]
    }
   ],
   "source": [
    "for model_name in models:\n",
    "    \n",
    "    curr_model = eval(model_name) # تاخذ المودل وتحوله لاوبجكت \n",
    "    \n",
    "    curr_model.fit(X_train_SMOTE, y_train_SMOTE)"
   ]
  },
  {
   "cell_type": "code",
   "execution_count": 500,
   "id": "c118a5a9",
   "metadata": {},
   "outputs": [],
   "source": [
    "# Load pre-trained/tuned models\n",
    "\n",
    "model_names = [\"lr_model\", \"knn_model\", \"rf_model\", \"et_model\"]\n",
    "\n",
    "model_vars = [eval(n) for n in model_names]\n",
    "model_list = list(zip(model_names, model_vars))"
   ]
  },
  {
   "cell_type": "code",
   "execution_count": 501,
   "id": "a8a4d1d1",
   "metadata": {},
   "outputs": [
    {
     "data": {
      "text/plain": [
       "VotingClassifier(estimators=[('lr_model', LogisticRegression(random_state=1)),\n",
       "                             ('knn_model', KNeighborsClassifier()),\n",
       "                             ('rf_model',\n",
       "                              RandomForestClassifier(n_estimators=55,\n",
       "                                                     random_state=1)),\n",
       "                             ('et_model',\n",
       "                              ExtraTreesClassifier(random_state=1))],\n",
       "                 n_jobs=-1)"
      ]
     },
     "execution_count": 501,
     "metadata": {},
     "output_type": "execute_result"
    }
   ],
   "source": [
    "# create voting classifier  voting_classifer = يطلع الماجورتي ويقرر الواي هات اذا صفر او واحد ويقارنها بالواي تست\n",
    "voting_classifer = VotingClassifier(estimators=model_list,\n",
    "                                    voting='hard', #<-- sklearn calls this hard voting\n",
    "                                    n_jobs=-1) # شغل كل الاتريبيوت\n",
    "voting_classifer.fit(X_train_SMOTE, y_train_SMOTE)"
   ]
  },
  {
   "cell_type": "code",
   "execution_count": 504,
   "id": "8050bbf2",
   "metadata": {},
   "outputs": [
    {
     "name": "stdout",
     "output_type": "stream",
     "text": [
      "lr_model score: 0.6571376877148544\n",
      "lr_model rmse: 0.5855444579920005\n",
      "--------------------------------------------------------------------\n",
      "knn_model score: 0.6247512212773657\n",
      "knn_model rmse: 0.6125755289942901\n",
      "--------------------------------------------------------------------\n",
      "rf_model score: 0.6558711778541705\n",
      "rf_model rmse: 0.5866249416329223\n",
      "--------------------------------------------------------------------\n",
      "et_model score: 0.6533381581328026\n",
      "et_model rmse: 0.5887799604837085\n",
      "--------------------------------------------------------------------\n"
     ]
    }
   ],
   "source": [
    "# Quick peek at each model performance\n",
    "\n",
    "def rmse(actuals, preds):\n",
    "    return np.sqrt(((actuals - preds) ** 2).mean())\n",
    "\n",
    "for model_name in model_names:\n",
    "    curr_model = eval(model_name)\n",
    "    print(f'{model_name} score: {curr_model.score(X_val, y_val)}')\n",
    "    print(f'{model_name} rmse: {rmse(curr_model.predict(X_val), y_val)}')\n",
    "    print('--------------------------------------------------------------------')\n",
    "\n"
   ]
  },
  {
   "cell_type": "code",
   "execution_count": 505,
   "id": "521ec55b",
   "metadata": {},
   "outputs": [
    {
     "data": {
      "text/plain": [
       "VotingClassifier(estimators=[('lr_model', LogisticRegression(random_state=1)),\n",
       "                             ('knn_model', KNeighborsClassifier()),\n",
       "                             ('rf_model',\n",
       "                              RandomForestClassifier(n_estimators=55,\n",
       "                                                     random_state=1)),\n",
       "                             ('et_model',\n",
       "                              ExtraTreesClassifier(random_state=1))],\n",
       "                 n_jobs=-1)"
      ]
     },
     "execution_count": 505,
     "metadata": {},
     "output_type": "execute_result"
    }
   ],
   "source": [
    "# create voting classifier  voting_classifer = يطلع الماجورتي ويقرر الواي هات اذا صفر او واحد ويقارنها بالواي تست\n",
    "voting_classifer = VotingClassifier(estimators=model_list,\n",
    "                                    voting='hard', #<-- sklearn calls this hard voting\n",
    "                                    n_jobs=-1) # شغل كل الاتريبيوت\n",
    "voting_classifer.fit(X_train_SMOTE, y_train_SMOTE)"
   ]
  },
  {
   "cell_type": "code",
   "execution_count": 507,
   "id": "11865288",
   "metadata": {},
   "outputs": [
    {
     "ename": "ValueError",
     "evalue": "Found input variables with inconsistent numbers of samples: [5527, 167606]",
     "output_type": "error",
     "traceback": [
      "\u001b[0;31m---------------------------------------------------------------------------\u001b[0m",
      "\u001b[0;31mValueError\u001b[0m                                Traceback (most recent call last)",
      "\u001b[0;32m<ipython-input-507-5cdf8b3ac523>\u001b[0m in \u001b[0;36m<module>\u001b[0;34m\u001b[0m\n\u001b[1;32m      3\u001b[0m \u001b[0;34m\u001b[0m\u001b[0m\n\u001b[1;32m      4\u001b[0m \u001b[0my_pred\u001b[0m \u001b[0;34m=\u001b[0m \u001b[0mvoting_classifer\u001b[0m\u001b[0;34m.\u001b[0m\u001b[0mpredict\u001b[0m\u001b[0;34m(\u001b[0m\u001b[0mX_train_SMOTE\u001b[0m\u001b[0;34m)\u001b[0m\u001b[0;34m\u001b[0m\u001b[0;34m\u001b[0m\u001b[0m\n\u001b[0;32m----> 5\u001b[0;31m \u001b[0maccuracy_score\u001b[0m\u001b[0;34m(\u001b[0m\u001b[0my_val\u001b[0m\u001b[0;34m,\u001b[0m \u001b[0my_pred\u001b[0m\u001b[0;34m)\u001b[0m\u001b[0;34m\u001b[0m\u001b[0;34m\u001b[0m\u001b[0m\n\u001b[0m",
      "\u001b[0;32m~/opt/anaconda3/lib/python3.8/site-packages/sklearn/utils/validation.py\u001b[0m in \u001b[0;36minner_f\u001b[0;34m(*args, **kwargs)\u001b[0m\n\u001b[1;32m     61\u001b[0m             \u001b[0mextra_args\u001b[0m \u001b[0;34m=\u001b[0m \u001b[0mlen\u001b[0m\u001b[0;34m(\u001b[0m\u001b[0margs\u001b[0m\u001b[0;34m)\u001b[0m \u001b[0;34m-\u001b[0m \u001b[0mlen\u001b[0m\u001b[0;34m(\u001b[0m\u001b[0mall_args\u001b[0m\u001b[0;34m)\u001b[0m\u001b[0;34m\u001b[0m\u001b[0;34m\u001b[0m\u001b[0m\n\u001b[1;32m     62\u001b[0m             \u001b[0;32mif\u001b[0m \u001b[0mextra_args\u001b[0m \u001b[0;34m<=\u001b[0m \u001b[0;36m0\u001b[0m\u001b[0;34m:\u001b[0m\u001b[0;34m\u001b[0m\u001b[0;34m\u001b[0m\u001b[0m\n\u001b[0;32m---> 63\u001b[0;31m                 \u001b[0;32mreturn\u001b[0m \u001b[0mf\u001b[0m\u001b[0;34m(\u001b[0m\u001b[0;34m*\u001b[0m\u001b[0margs\u001b[0m\u001b[0;34m,\u001b[0m \u001b[0;34m**\u001b[0m\u001b[0mkwargs\u001b[0m\u001b[0;34m)\u001b[0m\u001b[0;34m\u001b[0m\u001b[0;34m\u001b[0m\u001b[0m\n\u001b[0m\u001b[1;32m     64\u001b[0m \u001b[0;34m\u001b[0m\u001b[0m\n\u001b[1;32m     65\u001b[0m             \u001b[0;31m# extra_args > 0\u001b[0m\u001b[0;34m\u001b[0m\u001b[0;34m\u001b[0m\u001b[0;34m\u001b[0m\u001b[0m\n",
      "\u001b[0;32m~/opt/anaconda3/lib/python3.8/site-packages/sklearn/metrics/_classification.py\u001b[0m in \u001b[0;36maccuracy_score\u001b[0;34m(y_true, y_pred, normalize, sample_weight)\u001b[0m\n\u001b[1;32m    200\u001b[0m \u001b[0;34m\u001b[0m\u001b[0m\n\u001b[1;32m    201\u001b[0m     \u001b[0;31m# Compute accuracy for each possible representation\u001b[0m\u001b[0;34m\u001b[0m\u001b[0;34m\u001b[0m\u001b[0;34m\u001b[0m\u001b[0m\n\u001b[0;32m--> 202\u001b[0;31m     \u001b[0my_type\u001b[0m\u001b[0;34m,\u001b[0m \u001b[0my_true\u001b[0m\u001b[0;34m,\u001b[0m \u001b[0my_pred\u001b[0m \u001b[0;34m=\u001b[0m \u001b[0m_check_targets\u001b[0m\u001b[0;34m(\u001b[0m\u001b[0my_true\u001b[0m\u001b[0;34m,\u001b[0m \u001b[0my_pred\u001b[0m\u001b[0;34m)\u001b[0m\u001b[0;34m\u001b[0m\u001b[0;34m\u001b[0m\u001b[0m\n\u001b[0m\u001b[1;32m    203\u001b[0m     \u001b[0mcheck_consistent_length\u001b[0m\u001b[0;34m(\u001b[0m\u001b[0my_true\u001b[0m\u001b[0;34m,\u001b[0m \u001b[0my_pred\u001b[0m\u001b[0;34m,\u001b[0m \u001b[0msample_weight\u001b[0m\u001b[0;34m)\u001b[0m\u001b[0;34m\u001b[0m\u001b[0;34m\u001b[0m\u001b[0m\n\u001b[1;32m    204\u001b[0m     \u001b[0;32mif\u001b[0m \u001b[0my_type\u001b[0m\u001b[0;34m.\u001b[0m\u001b[0mstartswith\u001b[0m\u001b[0;34m(\u001b[0m\u001b[0;34m'multilabel'\u001b[0m\u001b[0;34m)\u001b[0m\u001b[0;34m:\u001b[0m\u001b[0;34m\u001b[0m\u001b[0;34m\u001b[0m\u001b[0m\n",
      "\u001b[0;32m~/opt/anaconda3/lib/python3.8/site-packages/sklearn/metrics/_classification.py\u001b[0m in \u001b[0;36m_check_targets\u001b[0;34m(y_true, y_pred)\u001b[0m\n\u001b[1;32m     81\u001b[0m     \u001b[0my_pred\u001b[0m \u001b[0;34m:\u001b[0m \u001b[0marray\u001b[0m \u001b[0;32mor\u001b[0m \u001b[0mindicator\u001b[0m \u001b[0mmatrix\u001b[0m\u001b[0;34m\u001b[0m\u001b[0;34m\u001b[0m\u001b[0m\n\u001b[1;32m     82\u001b[0m     \"\"\"\n\u001b[0;32m---> 83\u001b[0;31m     \u001b[0mcheck_consistent_length\u001b[0m\u001b[0;34m(\u001b[0m\u001b[0my_true\u001b[0m\u001b[0;34m,\u001b[0m \u001b[0my_pred\u001b[0m\u001b[0;34m)\u001b[0m\u001b[0;34m\u001b[0m\u001b[0;34m\u001b[0m\u001b[0m\n\u001b[0m\u001b[1;32m     84\u001b[0m     \u001b[0mtype_true\u001b[0m \u001b[0;34m=\u001b[0m \u001b[0mtype_of_target\u001b[0m\u001b[0;34m(\u001b[0m\u001b[0my_true\u001b[0m\u001b[0;34m)\u001b[0m\u001b[0;34m\u001b[0m\u001b[0;34m\u001b[0m\u001b[0m\n\u001b[1;32m     85\u001b[0m     \u001b[0mtype_pred\u001b[0m \u001b[0;34m=\u001b[0m \u001b[0mtype_of_target\u001b[0m\u001b[0;34m(\u001b[0m\u001b[0my_pred\u001b[0m\u001b[0;34m)\u001b[0m\u001b[0;34m\u001b[0m\u001b[0;34m\u001b[0m\u001b[0m\n",
      "\u001b[0;32m~/opt/anaconda3/lib/python3.8/site-packages/sklearn/utils/validation.py\u001b[0m in \u001b[0;36mcheck_consistent_length\u001b[0;34m(*arrays)\u001b[0m\n\u001b[1;32m    260\u001b[0m     \u001b[0muniques\u001b[0m \u001b[0;34m=\u001b[0m \u001b[0mnp\u001b[0m\u001b[0;34m.\u001b[0m\u001b[0munique\u001b[0m\u001b[0;34m(\u001b[0m\u001b[0mlengths\u001b[0m\u001b[0;34m)\u001b[0m\u001b[0;34m\u001b[0m\u001b[0;34m\u001b[0m\u001b[0m\n\u001b[1;32m    261\u001b[0m     \u001b[0;32mif\u001b[0m \u001b[0mlen\u001b[0m\u001b[0;34m(\u001b[0m\u001b[0muniques\u001b[0m\u001b[0;34m)\u001b[0m \u001b[0;34m>\u001b[0m \u001b[0;36m1\u001b[0m\u001b[0;34m:\u001b[0m\u001b[0;34m\u001b[0m\u001b[0;34m\u001b[0m\u001b[0m\n\u001b[0;32m--> 262\u001b[0;31m         raise ValueError(\"Found input variables with inconsistent numbers of\"\n\u001b[0m\u001b[1;32m    263\u001b[0m                          \" samples: %r\" % [int(l) for l in lengths])\n\u001b[1;32m    264\u001b[0m \u001b[0;34m\u001b[0m\u001b[0m\n",
      "\u001b[0;31mValueError\u001b[0m: Found input variables with inconsistent numbers of samples: [5527, 167606]"
     ]
    }
   ],
   "source": [
    "# get accuracy (model to beat: RF with 0.7992852619198407 accuracy)\n",
    "from sklearn.metrics import accuracy_score\n",
    "\n",
    "y_pred = voting_classifer.predict(X_train_SMOTE)\n",
    "accuracy_score(y_val, y_pred)"
   ]
  },
  {
   "cell_type": "markdown",
   "id": "442e05ef",
   "metadata": {},
   "source": [
    "## Average Voting"
   ]
  },
  {
   "cell_type": "markdown",
   "id": "fc021595",
   "metadata": {},
   "source": [
    "## Gaussian Naive Bayes"
   ]
  },
  {
   "cell_type": "markdown",
   "id": "09b74f01",
   "metadata": {},
   "source": [
    "## Bernoulli Naive Bayes "
   ]
  },
  {
   "cell_type": "markdown",
   "id": "ce5f1823",
   "metadata": {},
   "source": [
    "# Polynomial"
   ]
  },
  {
   "cell_type": "markdown",
   "id": "77c31f16",
   "metadata": {},
   "source": [
    "# Evaluation Moduls"
   ]
  },
  {
   "cell_type": "markdown",
   "id": "1523ec02",
   "metadata": {},
   "source": [
    "* recall and -\n",
    "* thrishold\n",
    "* test \n",
    "* ROC graph \n",
    "* RMSE"
   ]
  },
  {
   "cell_type": "code",
   "execution_count": 199,
   "id": "5be04932",
   "metadata": {},
   "outputs": [],
   "source": [
    "# Test Final Muduls"
   ]
  }
 ],
 "metadata": {
  "kernelspec": {
   "display_name": "Python 3",
   "language": "python",
   "name": "python3"
  },
  "language_info": {
   "codemirror_mode": {
    "name": "ipython",
    "version": 3
   },
   "file_extension": ".py",
   "mimetype": "text/x-python",
   "name": "python",
   "nbconvert_exporter": "python",
   "pygments_lexer": "ipython3",
   "version": "3.8.8"
  }
 },
 "nbformat": 4,
 "nbformat_minor": 5
}
